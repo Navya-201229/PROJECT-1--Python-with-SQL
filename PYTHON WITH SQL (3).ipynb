{
 "cells": [
  {
   "cell_type": "markdown",
   "id": "6d062f3f",
   "metadata": {},
   "source": [
    "# PYTHON with SQL"
   ]
  },
  {
   "cell_type": "code",
   "execution_count": null,
   "id": "a61e1316",
   "metadata": {},
   "outputs": [],
   "source": [
    "#connecting MySQL to Python\n",
    "\n",
    "pip install mysql-connector-python"
   ]
  },
  {
   "cell_type": "code",
   "execution_count": 3,
   "id": "d4227516",
   "metadata": {},
   "outputs": [],
   "source": [
    "#importing required libraries\n",
    "\n",
    "import mysql.connector\n",
    "from mysql.connector import Error\n",
    "import pandas as pd"
   ]
  },
  {
   "cell_type": "code",
   "execution_count": null,
   "id": "6250d5a9",
   "metadata": {},
   "outputs": [],
   "source": [
    "#user-defined function called create_server_connection() to connect MySQL Server from the Jupyter notebook\n",
    "\n",
    "def create_server_connection(host_name, user_name, user_password):\n",
    "    connection = None\n",
    "    try:\n",
    "        connection = mysql.connector.connect(\n",
    "            host=host_name,\n",
    "            user=user_name,\n",
    "            passwd=user_password\n",
    "        )\n",
    "        print(\"MySQL Database connection successful\")\n",
    "    except Error as err:\n",
    "        print(f\"Error: '{err}'\")\n",
    "\n",
    "    return connection\n",
    "\n",
    "pw = \"Navya@111\" \n",
    "db = \"orders\" \n",
    "\n",
    "connection = create_server_connection(\"localhost\", \"root\", pw)"
   ]
  },
  {
   "cell_type": "markdown",
   "id": "1476448b",
   "metadata": {},
   "source": [
    "MySQL Database connection successful"
   ]
  },
  {
   "cell_type": "code",
   "execution_count": null,
   "id": "d92336f7",
   "metadata": {},
   "outputs": [],
   "source": [
    "#creating mysql_python database by defining a create_database() function\n",
    "\n",
    "def create_database(connection, query):\n",
    "    cursor = connection.cursor()\n",
    "    try:\n",
    "        cursor.execute(query)\n",
    "        print(\"Database created successfully\")\n",
    "    except Error as err:\n",
    "        print(f\"Error: '{err}'\")\n",
    "\n",
    "create_database_query = \"CREATE DATABASE orders\"\n",
    "create_database(connection, create_database_query)"
   ]
  },
  {
   "cell_type": "markdown",
   "id": "50711bde",
   "metadata": {},
   "source": [
    "Database created successfully"
   ]
  },
  {
   "cell_type": "code",
   "execution_count": null,
   "id": "ec1a7945",
   "metadata": {},
   "outputs": [],
   "source": [
    "#connecting to the mysql_python database\n",
    "\n",
    "def create_db_connection(host_name, user_name, user_password, db_name):\n",
    "    connection = None\n",
    "    try:\n",
    "        connection = mysql.connector.connect(\n",
    "            host=host_name,\n",
    "            user=user_name,\n",
    "            passwd=user_password,\n",
    "            database=db_name\n",
    "        )\n",
    "        print(\"MySQL Database connection successful\")\n",
    "    except Error as err:\n",
    "        print(f\"Error: '{err}'\")\n",
    "    return connection"
   ]
  },
  {
   "cell_type": "markdown",
   "id": "222ef330",
   "metadata": {},
   "source": [
    "MySQL Database connection successful"
   ]
  },
  {
   "cell_type": "code",
   "execution_count": null,
   "id": "55b0493d",
   "metadata": {},
   "outputs": [],
   "source": [
    "#creating a function to execute queries\n",
    "\n",
    "def execute_query(connection, query):\n",
    "    cursor = connection.cursor()\n",
    "    try:\n",
    "        cursor.execute(query)\n",
    "        connection.commit()\n",
    "        print(\"Query successful\")\n",
    "    except Error as err:\n",
    "        print(f\"Error: '{err}'\")"
   ]
  },
  {
   "cell_type": "markdown",
   "id": "0da45e60",
   "metadata": {},
   "source": [
    "Query successful"
   ]
  },
  {
   "cell_type": "markdown",
   "id": "883a593f",
   "metadata": {},
   "source": [
    "#### So far, you saw how to establish the MySQL server connection and create a database. Now, create a table called Orders with seven columns"
   ]
  },
  {
   "cell_type": "code",
   "execution_count": null,
   "id": "a7104cb6",
   "metadata": {},
   "outputs": [],
   "source": [
    "create_orders_table = \"\"\"\n",
    "CREATE TABLE orders (\n",
    "  Order_id INT PRIMARY KEY,\n",
    "  Customer_name VARCHAR(40) NOT NULL,\n",
    "  Product_name VARCHAR(40) NOT NULL,\n",
    "  Date_ordered DATE,\n",
    "  quantity INT,\n",
    "  Price FLOAT,\n",
    "  Phone_no VARCHAR(40)\n",
    "  );\n",
    " \"\"\"\n",
    "\n",
    "connection = create_db_connection(\"localhost\", \"root\", pw, db) \n",
    "execute_query(connection, create_orders_table) "
   ]
  },
  {
   "cell_type": "markdown",
   "id": "2c9608e5",
   "metadata": {},
   "source": [
    "MySQL Database connection successful\n"
   ]
  },
  {
   "cell_type": "markdown",
   "id": "b47eb8a1",
   "metadata": {},
   "source": [
    "Query successful"
   ]
  },
  {
   "cell_type": "code",
   "execution_count": null,
   "id": "689e749d",
   "metadata": {},
   "outputs": [],
   "source": [
    "#inserting a few records into the table using the insert command\n",
    "data_orders = \"\"\"\n",
    "\n",
    "INSERT INTO orders VALUES\n",
    "\n",
    "(101, 'Steve', 'Laptop', '2018-06-12', 2, 800, '6293730802'),\n",
    "\n",
    "(102, 'Jos', 'Books', '2019-02-10', 10, 12, '8367489124'),\n",
    "\n",
    "(103, 'Stacy', 'Trousers', '2019-12-25', 5, 50, '8976123645'),\n",
    "\n",
    "(104, 'Nancy', 'T-Shirts', '2018-07-14', 7, 30, '7368145099'), \n",
    "\n",
    "(105, 'Maria', 'Headphones', '2019-05-30', 6, 48, '8865316698'),\n",
    "\n",
    "(106, 'Danny', 'Smart TV', '2018-08-20', 10, 300, '7720130449');\n",
    "\"\"\"\n",
    "\n",
    "connection = create_db_connection(\"localhost\", \"root\", pw, db) \n",
    "execute_query(connection, data_orders)"
   ]
  },
  {
   "cell_type": "markdown",
   "id": "af9ab21f",
   "metadata": {},
   "source": [
    "MySQL Database connection successful"
   ]
  },
  {
   "cell_type": "markdown",
   "id": "afa5f4db",
   "metadata": {},
   "source": [
    "Query successful"
   ]
  },
  {
   "cell_type": "code",
   "execution_count": null,
   "id": "c0290620",
   "metadata": {},
   "outputs": [],
   "source": [
    "#In order to read data from the table, create a read_query function containing the fetchall() method\n",
    "\n",
    "def read_query(connection, query): \n",
    "    cursor = connection.cursor()\n",
    "    result = None\n",
    "    try:\n",
    "        cursor.execute(query)\n",
    "        result = cursor.fetchall()\n",
    "        return result\n",
    "    except Error as err:\n",
    "        print (f\"Error: '{err}'\")"
   ]
  },
  {
   "cell_type": "markdown",
   "id": "b5b0b758",
   "metadata": {},
   "source": [
    "#### Exploring some of the popular commands to understand SQL with Python in detail."
   ]
  },
  {
   "cell_type": "code",
   "execution_count": null,
   "id": "1cc45af3",
   "metadata": {},
   "outputs": [],
   "source": [
    "ql =\"\"\"\"\n",
    "\n",
    "SELECT * FROM orders;\n",
    "\n",
    "\"\"\"\"\n",
    "connection = create_db_connection(\"localhost\", \"root\", pw, db)\n",
    "results = read_query(connection, q1) \n",
    "for result in results:\n",
    "    print(result)"
   ]
  },
  {
   "cell_type": "markdown",
   "id": "762ce7ee",
   "metadata": {},
   "source": [
    "MySQL Database connection successful"
   ]
  },
  {
   "cell_type": "markdown",
   "id": "214f2335",
   "metadata": {},
   "source": [
    "(101, 'Steve', 'Laptop', '2018-06-12', 2, 800, '6293730802')\n",
    "(102, 'Jos', 'Books', '2019-02-10', 10, 12, '8367489124')\n",
    "(103, 'Stacy', 'Trousers', '2019-12-25', 5, 50, '8976123645')\n",
    "(104, 'Nancy', 'T-Shirts', '2018-07-14', 7, 30, '7368145099') \n",
    "(105, 'Maria', 'Headphones', '2019-05-30', 6, 48, '8865316698')\n",
    "(106, 'Danny', 'Smart TV', '2018-08-20', 10, 300, '7720130449')"
   ]
  },
  {
   "cell_type": "code",
   "execution_count": null,
   "id": "db6c9cbf",
   "metadata": {},
   "outputs": [],
   "source": [
    "q2=\"\"\"\n",
    "\n",
    "SELECT DISTINCT year(date_ordered) FROM orders;\n",
    "\n",
    "\"\"\"\n",
    "connection create_db_connection(\"localhost\", \"root\", pw, db) \n",
    "results = read_query(connection, q2)\n",
    "for result in results:\n",
    "     print(result)"
   ]
  },
  {
   "cell_type": "markdown",
   "id": "2236e081",
   "metadata": {},
   "source": [
    "MySQL Database connection successful"
   ]
  },
  {
   "cell_type": "markdown",
   "id": "57383af6",
   "metadata": {},
   "source": [
    "(2018,)\n",
    "(2019,)"
   ]
  },
  {
   "cell_type": "code",
   "execution_count": null,
   "id": "96ac2141",
   "metadata": {},
   "outputs": [],
   "source": [
    "q3 =\"\"\"\"\n",
    "\n",
    "SELECT * FROM orders WHERE date_ordered < '2018-12-31';\n",
    "\n",
    "\"\"\"\"\n",
    "\n",
    "connection = create_db_connection(\"localhost\", \"root\", pw, db) \n",
    "results = read_query(connection, q3)\n",
    "for result in results:\n",
    "    print(result)"
   ]
  },
  {
   "cell_type": "markdown",
   "id": "a55f3550",
   "metadata": {},
   "source": [
    "MySQL Database connection successful"
   ]
  },
  {
   "cell_type": "markdown",
   "id": "434850a8",
   "metadata": {},
   "source": [
    "(101, 'Steve', 'Laptop', '2018-06-12', 2, 800, '6293730802')\n",
    "(104, 'Nancy', 'T-Shirts', '2018-07-14', 7, 30, '7368145099')\n",
    "(106, 'Danny', 'Smart TV', '2018-08-20', 10, 300, '7720130449')"
   ]
  },
  {
   "cell_type": "code",
   "execution_count": null,
   "id": "cc7f5723",
   "metadata": {},
   "outputs": [],
   "source": [
    "q4 = \"\"\"\"\n",
    "\n",
    "SELECT * FROM orders ORDER BY unit_price DESC; \n",
    "\n",
    "\"\"\"\"\n",
    "\n",
    "connection = create_db_connection(\"localhost\", \"root\", pw, db)\n",
    "results = read_query(connection, q4) \n",
    "for result in results:\n",
    "    print(result)"
   ]
  },
  {
   "cell_type": "markdown",
   "id": "3a3065a8",
   "metadata": {},
   "source": [
    "MySQL Database connection successful"
   ]
  },
  {
   "cell_type": "markdown",
   "id": "8ba2d133",
   "metadata": {},
   "source": [
    "(102, 'Jos', 'Books', '2019-02-10', 10, 12, '8367489124')\n",
    "(104, 'Nancy', 'T-Shirts', '2018-07-14', 7, 30, '7368145099')\n",
    "(105, 'Maria', 'Headphones', '2019-05-30', 6, 48, '8865316698')\n",
    "(103, 'Stacy', 'Trousers', '2019-12-25', 5, 50, '8976123645')\n",
    "(106, 'Danny', 'Smart TV', '2018-08-20', 10, 300, '7720130449')\n",
    "(101, 'Steve', 'Laptop', '2018-06-12', 2, 800, '6293730802')"
   ]
  },
  {
   "cell_type": "code",
   "execution_count": null,
   "id": "377b741a",
   "metadata": {},
   "outputs": [],
   "source": [
    "#query to update the record\n",
    "\n",
    "update = \"\"\"\"\n",
    "\n",
    "UPDATE orders\n",
    "SET unit_price = 45\n",
    "WHERE order_id =103;\n",
    "\n",
    "\"\"\"\"\n",
    "connection = create_db_connection(\"localhost\", \"root\", pw, db)\n",
    "execute_query(connection, update)"
   ]
  },
  {
   "cell_type": "markdown",
   "id": "20c1153c",
   "metadata": {},
   "source": [
    "MySQL Database connection successful"
   ]
  },
  {
   "cell_type": "markdown",
   "id": "70cb22aa",
   "metadata": {},
   "source": [
    "Query successful"
   ]
  },
  {
   "cell_type": "code",
   "execution_count": null,
   "id": "016c4a58",
   "metadata": {},
   "outputs": [],
   "source": [
    "#query to delete dome of the records\n",
    "\n",
    "delete_order = \"\"\"\"\n",
    "\n",
    "DELETE FROM orders\n",
    "WHERE order_id = 105;\n",
    "\n",
    "\"\"\"\"\n",
    "connection = create_db_connection(\"localhost\", \"root\", pw, db)\n",
    "execute_query(connection, delete_order)"
   ]
  },
  {
   "cell_type": "markdown",
   "id": "062ac3b4",
   "metadata": {},
   "source": [
    "MySQL Database connection successful"
   ]
  },
  {
   "cell_type": "markdown",
   "id": "e1db565c",
   "metadata": {},
   "source": [
    "Query successful"
   ]
  },
  {
   "cell_type": "markdown",
   "id": "a5e0cecf",
   "metadata": {},
   "source": [
    "#### sample code for creating a Pandas data frame from the existing records in the table. To do this, you can append the result to an empty list, assign the column name, and use the Dataframe() method to build the data frame. "
   ]
  },
  {
   "cell_type": "code",
   "execution_count": null,
   "id": "49beae37",
   "metadata": {},
   "outputs": [],
   "source": [
    "# db = []\n",
    "# for result in results:\n",
    "#     result = list (result)\n",
    "#     db.append(result)\n",
    "# cols=[\"order_id\", \"customer_name\", \"product_name\", \"date_ordered\", \"quantity\", \"unit_price\", \"phone_number\"] \n",
    "# df = pd.DataFrame(db, columns = cols)\n",
    "# display (df) "
   ]
  }
 ],
 "metadata": {
  "kernelspec": {
   "display_name": "Python 3 (ipykernel)",
   "language": "python",
   "name": "python3"
  },
  "language_info": {
   "codemirror_mode": {
    "name": "ipython",
    "version": 3
   },
   "file_extension": ".py",
   "mimetype": "text/x-python",
   "name": "python",
   "nbconvert_exporter": "python",
   "pygments_lexer": "ipython3",
   "version": "3.10.9"
  }
 },
 "nbformat": 4,
 "nbformat_minor": 5
}
